{
  "nbformat": 4,
  "nbformat_minor": 0,
  "metadata": {
    "colab": {
      "provenance": [],
      "authorship_tag": "ABX9TyN6lSsXavv4LLnamLDGZDQb",
      "include_colab_link": true
    },
    "kernelspec": {
      "name": "python3",
      "display_name": "Python 3"
    },
    "language_info": {
      "name": "python"
    }
  },
  "cells": [
    {
      "cell_type": "markdown",
      "metadata": {
        "id": "view-in-github",
        "colab_type": "text"
      },
      "source": [
        "<a href=\"https://colab.research.google.com/github/PublicResourceLicense/Investigative-Tools/blob/main/PEMi.ipynb\" target=\"_parent\"><img src=\"https://colab.research.google.com/assets/colab-badge.svg\" alt=\"Open In Colab\"/></a>"
      ]
    },
    {
      "cell_type": "code",
      "execution_count": 20,
      "metadata": {
        "colab": {
          "base_uri": "https://localhost:8080/"
        },
        "id": "nGrblcrvASPK",
        "outputId": "ffc80fe9-b3e0-48e4-8f67-d59526642ac8"
      },
      "outputs": [
        {
          "output_type": "stream",
          "name": "stdout",
          "text": [
            "Performing ELA on images at /content/D\n",
            "Finished!\n",
            "Head to /content/D/generated to check the results!\n"
          ]
        }
      ],
      "source": [
        "!python ela.py --dir /content/D"
      ]
    },
    {
      "cell_type": "code",
      "source": [
        "!cd /content/D"
      ],
      "metadata": {
        "id": "0VUP7V7DOaBz"
      },
      "execution_count": 10,
      "outputs": []
    }
  ]
}