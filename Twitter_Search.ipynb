{
  "nbformat": 4,
  "nbformat_minor": 0,
  "metadata": {
    "colab": {
      "provenance": [],
      "include_colab_link": true
    },
    "kernelspec": {
      "name": "python3",
      "display_name": "Python 3"
    },
    "language_info": {
      "name": "python"
    }
  },
  "cells": [
    {
      "cell_type": "markdown",
      "metadata": {
        "id": "view-in-github",
        "colab_type": "text"
      },
      "source": [
        "<a href=\"https://colab.research.google.com/github/PublicResourceLicense/Investigative-Tools/blob/main/Twitter_Search.ipynb\" target=\"_parent\"><img src=\"https://colab.research.google.com/assets/colab-badge.svg\" alt=\"Open In Colab\"/></a>"
      ]
    },
    {
      "cell_type": "code",
      "source": [
        "!git clone --depth=1 https://github.com/twintproject/twint.git\n",
        "!cd /content/twint && pip3 install . -r requirements.txt\n",
        "!pip install aiohttp==3.7.0\n",
        "!pip uninstall nest-asyncio\n",
        "!pip install nest-asyncio==1.5.3\n",
        "import twint\n",
        "import nest_asyncio\n",
        "nest_asyncio.apply()\n",
        "import time\n",
        "import pandas as pd\n",
        "import os\n",
        "import re"
      ],
      "metadata": {
        "id": "uVPyg5mwadsU"
      },
      "execution_count": null,
      "outputs": []
    },
    {
      "cell_type": "code",
      "source": [
        "timestr = time.strftime(\"%Y%m%d%s%M\")\n",
        "c = twint.Config()\n",
        "c.Limit = 10000\n",
        "c.Lang = \"en\"\n",
        "c.Store_csv = True\n",
        "c.Search = \"'Kurt Debus'\" # <----replace term / script will export unique CSV each run.\n",
        "c.Output = timestr + \"_en_project.csv\"\n",
        "twint.run.Search(c)"
      ],
      "metadata": {
        "id": "YibtUGPraxBF",
        "outputId": "f9a9e251-3ade-445c-b4da-d8118f114eff",
        "colab": {
          "base_uri": "https://localhost:8080/"
        }
      },
      "execution_count": null,
      "outputs": [
        {
          "output_type": "stream",
          "name": "stdout",
          "text": [
            "1608650324826361859 2022-12-30 02:24:59 +0000 <Badger006> Kurt Debus and Lyndon Johnson  https://t.co/iiHuLIA68x\n",
            "1608397668279001089 2022-12-29 09:41:01 +0000 <M0ATZE> @monoliff I’ve been reading a lot about dueling scars, the nazis saw them as high class, NASA Director and former Nazi Kurt Debus getting Kennedy to the moon with a dueling scar, (not saying Solana is like nazis but ya know)  https://t.co/bqObAk4uS1\n",
            "1607497477778718723 2022-12-26 22:03:59 +0000 <Daniell99634244> @JackWarnerthor @hippojuicefilm @ShowMeTheMoula @tmsilverman 4. Then you have Kurt Debus the director of Nasa under JFK. Kurt Debus was a hard-core SS member. In charge of weapons research.   These where not good people in anyway shap or form. Try again\n",
            "1605524941062868992 2022-12-21 11:25:49 +0000 <TheSecretKx> @elonmusk @Rainmaker1973 No doubt. However, Saturn V was designed by a Nazi Scientist, Wernher Von Braun, who was also a Major in the Nazi SS. Are you okay with that?  Kurt Debus, Nazi scientist and SS General, was Director of the NASA Space Center, at Cape Canaveral (Apollo)\n",
            "1605394588725911552 2022-12-21 02:47:51 +0000 <Soltron4> @aaronjmate Kurt Debus\n",
            "1605234190198640640 2022-12-20 16:10:29 +0000 <stephen_mason36> @CNN You guys should do a story on how your government hired nazis to work for @NASA to make rockets for the shuttles, but lied about their identity until they died, like Wernher vim Braun and Kurt Debus,  https://t.co/3dvhCQEE6n\n",
            "1604913471434678273 2022-12-19 18:56:04 +0000 <akvk9500> @NSCFL Wow you guys still hand out awards in the name of a ruthless #Nazi and ex SS member(Kurt Debus). #mindblown @NASA\n",
            "1604911383103275009 2022-12-19 18:47:46 +0000 <fabulous_camel> @crackgod_69 @OrcpilledGnomer Kurt Debus is a good example. during ww2 he was part of the SS and afterwards part of NASA\n",
            "1604817435680309248 2022-12-19 12:34:27 +0000 <DWSVII> Kurt Debus was een hardcore Nazi!  https://t.co/cEdFlmwajq\n",
            "1604439321028792321 2022-12-18 11:31:57 +0000 <NguyenGiap4> @Trollstoy88 You forgot Kurt Debus who got rescued from the gallows in Nürenberg by Von Braun. He was launch director at NASA 1962-1974\n",
            "1604174848426512384 2022-12-17 18:01:02 +0000 <DavidManOnFire> @elonmusk @andy0___ @sama Toldja to be quiet n play with your rockets, but noooo...   You decided to be Howard Hughes and Kurt DeBus... \"X\"  https://t.co/QAGNXDOGOU\n",
            "1604163300232556545 2022-12-17 17:15:09 +0000 <Resis_Tance_> Kurt Debus Outed As A Nazi!Researched it and it's true!  https://t.co/Cv8tsQKTwC #kurtdebus #Nazi #NASA  #USA #history #facts\n",
            "1604152318374678530 2022-12-17 16:31:31 +0000 <ct16264> @Truth_Reaction @JamesBHayes @mtracey It's from a Saturn launch. The dude sitting between LBJ and JFK is an actual Nazi  His name is Kurt Debus\n",
            "1604124590183170048 2022-12-17 14:41:20 +0000 <Foradalei_O> @dmcoelho51 O pior é saber o que está implícito no assassinato de JFK, que é o governo sombra das agências de “inteligência”, à época pejadas de “paper clips”, como este nazi, Kurt Debus, sentado ao seu lado.  https://t.co/r2cMddErcs\n",
            "1603778735907520521 2022-12-16 15:47:02 +0000 <spinedoc1421> @Victorshi2020 @elonmusk Was it dangerous when JFK put ACTUAL Nazis Wernher von Braun and Kurt Debus in charge of NASA??? I mean these were actual Nazis who did dangerous and evil things to literally killed people. You may want to loosen the clutch on your pearls, Mary\n",
            "1603775243637637121 2022-12-16 15:33:09 +0000 <spinedoc1421> @DashDobrofsky Speaking of holocaust and liberals, here’s an actual picture of liberals JFK and LBJ sitting side by side an ACTUAL active participant in the holocaust ..Nazi SS officer Kurt Debus who was in charge of the V2 rocket program that killed thousands in England. Any comment??  https://t.co/U5CBTn0aYu\n",
            "1603756636954251266 2022-12-16 14:19:13 +0000 <spinedoc1421> @BillyBaldwin Speaking of Kennedy, here’s a picture of JFK and LBJ sitting side by side with an actual Nazi SS officer Kurt Debus…literally sitting side by side with a confirmed SS officer who was in charge of the V2 rocket program that rained terror on England … are you cancelling JFK now?  https://t.co/HIUJEvQQxi\n",
            "1603534548385644546 2022-12-15 23:36:43 +0000 <oneillquigley> Nazis Cut Their Faces to Look Ferocious - like Kurt Debus.   https://t.co/BhxSUxHhy5\n",
            "1603390406057775107 2022-12-15 14:03:57 +0000 <Shogun_musashi> Isn't Kurt Debus a hard-core nazi?\n",
            "1602919716745809920 2022-12-14 06:53:35 +0000 <HenryHenzan> @Alex06944477 @simaxis Not fake news..Also look at Operation Paperclip..Plus minus 1500 German Scientists and Engineers were taken to the US after WW 2 and employed in Government..Kurt Debus was one but the most prominent was Wernher von Braun..who was involved in the US rocket and space tech program\n",
            "[!] No more data! Scraping will stop now.\n",
            "found 0 deleted tweets in this search.\n"
          ]
        }
      ]
    }
  ]
}